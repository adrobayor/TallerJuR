{
 "cells": [
  {
   "cell_type": "markdown",
   "metadata": {},
   "source": [
    "<div style='background-image: url(\"../../share/images/header.svg\") ; padding: 0px ; background-size: cover ; border-radius: 5px ; height: 250px'>\n",
    "    <div style=\"float: right ; margin: 50px ; padding: 20px ; background: rgba(255 , 255 , 255 , 0.7) ; width: 50% ; height: 150px\">\n",
    "        <div style=\"position: relative ; top: 50% ; transform: translatey(-50%)\">\n",
    "            <div style=\"font-size: xx-large ; font-weight: 900 ; color: rgba(0 , 0 , 0 , 0.8) ; line-height: 100%\">Paquetes en Julia - II</div>\n",
    "            <div style=\"font-size: large ; padding-top: 20px ; color: rgba(0 , 0 , 0 , 0.5)\">Ulises M. Alvarez</div>\n",
    "        </div>\n",
    "    </div>\n",
    "</div>"
   ]
  },
  {
   "cell_type": "markdown",
   "metadata": {},
   "source": [
    "# Introducción\n",
    "\n",
    "Dado que es importante mantener nuestra biblioteca de paquetes y que se desea acelerar la ejecución de nuestros programas, haremos una función local para facilitar y acelerar la instalación de paquetes."
   ]
  },
  {
   "cell_type": "markdown",
   "metadata": {
    "collapsed": true
   },
   "source": [
    "# La función\n",
    "\n",
    "Definimos la función local, p_it(), \"*package install.*\""
   ]
  },
  {
   "cell_type": "code",
   "execution_count": 1,
   "metadata": {},
   "outputs": [
    {
     "data": {
      "text/plain": [
       "p_it (generic function with 1 method)"
      ]
     },
     "execution_count": 1,
     "metadata": {},
     "output_type": "execute_result"
    }
   ],
   "source": [
    "function p_it(p::String)\n",
    "    # Instala el paquete 'p'\n",
    "    #\n",
    "    # Args:\n",
    "    #   p: el nombre completo del paquete::String\n",
    "    #\n",
    "    # Returns:\n",
    "    #   Mensaje de error o notifica de la instalación vía Base.Pkg.add\n",
    "    #\n",
    "    ENV[\"PYTHON\"]=\"\"                                 # Para reproducibilidad\n",
    "    if !contains(==, Pkg.available(), p)             # si la cadena 'p' no existe\n",
    "        println(\"No disponible, verifique nombre.\")  # Informamos al usuario.\n",
    "    else                                                     \n",
    "        if !haskey(Pkg.installed(), p)               # Si 'p' no está instalado\n",
    "            Pkg.add(p)                               # Lo instalamos.\n",
    "        end\n",
    "    end\n",
    "end"
   ]
  },
  {
   "cell_type": "code",
   "execution_count": 2,
   "metadata": {},
   "outputs": [
    {
     "data": {
      "text/html": [
       "1 method for generic function <b>p_it</b>:<ul><li> p_it(p::<b>String</b>) at In[1]:10</li> </ul>"
      ],
      "text/plain": [
       "# 1 method for generic function \"p_it\":\n",
       "p_it(p::String) in Main at In[1]:10"
      ]
     },
     "execution_count": 2,
     "metadata": {},
     "output_type": "execute_result"
    }
   ],
   "source": [
    "methods(p_it)  # Obtenemos la tabla de métodos para it()"
   ]
  },
  {
   "cell_type": "markdown",
   "metadata": {},
   "source": [
    "# Pruebas de la función\n",
    "\n",
    "## Errores por el 'tipo' del argumento"
   ]
  },
  {
   "cell_type": "code",
   "execution_count": 3,
   "metadata": {},
   "outputs": [
    {
     "ename": "LoadError",
     "evalue": "\u001b[91mMethodError: no method matching p_it(::Int64)\u001b[0m\nClosest candidates are:\n  p_it(\u001b[91m::String\u001b[39m) at In[1]:10\u001b[39m",
     "output_type": "error",
     "traceback": [
      "\u001b[91mMethodError: no method matching p_it(::Int64)\u001b[0m\nClosest candidates are:\n  p_it(\u001b[91m::String\u001b[39m) at In[1]:10\u001b[39m",
      "",
      "Stacktrace:",
      " [1] \u001b[1mexecute_request\u001b[22m\u001b[22m\u001b[1m(\u001b[22m\u001b[22m::ZMQ.Socket, ::IJulia.Msg\u001b[1m)\u001b[22m\u001b[22m at \u001b[1m/home/uma/.julia/v0.6/IJulia/src/execute_request.jl:156\u001b[22m\u001b[22m",
      " [2] \u001b[1meventloop\u001b[22m\u001b[22m\u001b[1m(\u001b[22m\u001b[22m::ZMQ.Socket\u001b[1m)\u001b[22m\u001b[22m at \u001b[1m/home/uma/.julia/v0.6/IJulia/src/eventloop.jl:8\u001b[22m\u001b[22m",
      " [3] \u001b[1m(::IJulia.##9#12)\u001b[22m\u001b[22m\u001b[1m(\u001b[22m\u001b[22m\u001b[1m)\u001b[22m\u001b[22m at \u001b[1m./task.jl:335\u001b[22m\u001b[22m"
     ]
    }
   ],
   "source": [
    "p_it(4)        # ¿Y si ingresamos un entero?"
   ]
  },
  {
   "cell_type": "code",
   "execution_count": 4,
   "metadata": {},
   "outputs": [
    {
     "ename": "LoadError",
     "evalue": "\u001b[91mMethodError: no method matching p_it(::Float64)\u001b[0m\nClosest candidates are:\n  p_it(\u001b[91m::String\u001b[39m) at In[1]:10\u001b[39m",
     "output_type": "error",
     "traceback": [
      "\u001b[91mMethodError: no method matching p_it(::Float64)\u001b[0m\nClosest candidates are:\n  p_it(\u001b[91m::String\u001b[39m) at In[1]:10\u001b[39m",
      "",
      "Stacktrace:",
      " [1] \u001b[1mexecute_request\u001b[22m\u001b[22m\u001b[1m(\u001b[22m\u001b[22m::ZMQ.Socket, ::IJulia.Msg\u001b[1m)\u001b[22m\u001b[22m at \u001b[1m/home/uma/.julia/v0.6/IJulia/src/execute_request.jl:156\u001b[22m\u001b[22m",
      " [2] \u001b[1meventloop\u001b[22m\u001b[22m\u001b[1m(\u001b[22m\u001b[22m::ZMQ.Socket\u001b[1m)\u001b[22m\u001b[22m at \u001b[1m/home/uma/.julia/v0.6/IJulia/src/eventloop.jl:8\u001b[22m\u001b[22m",
      " [3] \u001b[1m(::IJulia.##9#12)\u001b[22m\u001b[22m\u001b[1m(\u001b[22m\u001b[22m\u001b[1m)\u001b[22m\u001b[22m at \u001b[1m./task.jl:335\u001b[22m\u001b[22m"
     ]
    }
   ],
   "source": [
    "p_it(1.0)      # ¿Y si ingresamos un real?"
   ]
  },
  {
   "cell_type": "code",
   "execution_count": 5,
   "metadata": {},
   "outputs": [
    {
     "ename": "LoadError",
     "evalue": "\u001b[91mMethodError: no method matching p_it(::Module)\u001b[0m\nClosest candidates are:\n  p_it(\u001b[91m::String\u001b[39m) at In[1]:10\u001b[39m",
     "output_type": "error",
     "traceback": [
      "\u001b[91mMethodError: no method matching p_it(::Module)\u001b[0m\nClosest candidates are:\n  p_it(\u001b[91m::String\u001b[39m) at In[1]:10\u001b[39m",
      "",
      "Stacktrace:",
      " [1] \u001b[1mexecute_request\u001b[22m\u001b[22m\u001b[1m(\u001b[22m\u001b[22m::ZMQ.Socket, ::IJulia.Msg\u001b[1m)\u001b[22m\u001b[22m at \u001b[1m/home/uma/.julia/v0.6/IJulia/src/execute_request.jl:156\u001b[22m\u001b[22m",
      " [2] \u001b[1meventloop\u001b[22m\u001b[22m\u001b[1m(\u001b[22m\u001b[22m::ZMQ.Socket\u001b[1m)\u001b[22m\u001b[22m at \u001b[1m/home/uma/.julia/v0.6/IJulia/src/eventloop.jl:8\u001b[22m\u001b[22m",
      " [3] \u001b[1m(::IJulia.##9#12)\u001b[22m\u001b[22m\u001b[1m(\u001b[22m\u001b[22m\u001b[1m)\u001b[22m\u001b[22m at \u001b[1m./task.jl:335\u001b[22m\u001b[22m"
     ]
    }
   ],
   "source": [
    "p_it(IJulia)    # El nombre es correcto, pero no el tipo."
   ]
  },
  {
   "cell_type": "markdown",
   "metadata": {},
   "source": [
    "## Errores por nombre inexistente"
   ]
  },
  {
   "cell_type": "code",
   "execution_count": 6,
   "metadata": {},
   "outputs": [
    {
     "name": "stdout",
     "output_type": "stream",
     "text": [
      "No disponible, verifique nombre.\n"
     ]
    }
   ],
   "source": [
    "p_it(\"Ijulia\")  # Ingresamos un nombre incorrecto."
   ]
  },
  {
   "cell_type": "markdown",
   "metadata": {},
   "source": [
    "## Paquete ya instalado\n",
    "\n",
    "Ahora, ingresaremos como argumento de la función un nombre correcto pero esperamos que no haga nada porque el paquete ya estaba instalado:"
   ]
  },
  {
   "cell_type": "markdown",
   "metadata": {},
   "source": [
    "```julia\n",
    "Pkg.status()\n",
    "23 required packages:\n",
    " ...\n",
    " - IJulia                        1.5.0\n",
    " ...\n",
    "121 additional packages:\n",
    " - ArgParse                      0.5.0\n",
    " ... \n",
    " - ZMQ                           0.4.3\n",
    "```"
   ]
  },
  {
   "cell_type": "code",
   "execution_count": 7,
   "metadata": {
    "collapsed": true
   },
   "outputs": [],
   "source": [
    "p_it(\"IJulia\")  # Nombre y tipo correctos, pero el paquete ya estaba instalado."
   ]
  },
  {
   "cell_type": "markdown",
   "metadata": {},
   "source": [
    "## Instalamos un paquete válido\n",
    "\n",
    "Finalmente, probamos a instalar un paquete con el que no contábamos, *IJuliaPortrayals*, que nos servirá para embeber elementos HTML, videos, imágenes, etc., en nuestras libretas de *jupyter.*\n",
    "\n",
    "* https://github.com/jbn/IJuliaPortrayals.jl"
   ]
  },
  {
   "cell_type": "code",
   "execution_count": 34,
   "metadata": {},
   "outputs": [
    {
     "name": "stderr",
     "output_type": "stream",
     "text": [
      "\u001b[1m\u001b[36mINFO: \u001b[39m\u001b[22m\u001b[36mCloning cache of IJuliaPortrayals from https://github.com/jbn/IJuliaPortrayals.jl.git\n",
      "\u001b[39m\u001b[1m\u001b[36mINFO: \u001b[39m\u001b[22m\u001b[36mInstalling IJuliaPortrayals v0.0.4\n",
      "\u001b[39m\u001b[1m\u001b[36mINFO: \u001b[39m\u001b[22m\u001b[36mBuilding Conda\n",
      "\u001b[39m\u001b[1m\u001b[36mINFO: \u001b[39m\u001b[22m\u001b[36mBuilding MbedTLS\n",
      "\u001b[39m\u001b[1m\u001b[36mINFO: \u001b[39m\u001b[22m\u001b[36mBuilding ZMQ\n",
      "\u001b[39m\u001b[1m\u001b[36mINFO: \u001b[39m\u001b[22m\u001b[36mBuilding IJulia\n",
      "\u001b[39m\u001b[1m\u001b[36mINFO: \u001b[39m\u001b[22m\u001b[36mInstalling Jupyter via the Conda package.\n",
      "\u001b[39m\u001b[1m\u001b[36mINFO: \u001b[39m\u001b[22m\u001b[36mFound Jupyter version 4.3.0: /home/uma/.julia/v0.5/Conda/deps/usr/bin/jupyter\n",
      "\u001b[39mWriting IJulia kernelspec to /home/uma/.julia/v0.6/IJulia/deps/julia-0.6/kernel.json ...\n",
      "Installing julia kernelspec julia-0.6\n",
      "[InstallKernelSpec] Removing existing kernelspec in /home/uma/.local/share/jupyter/kernels/julia-0.6\n",
      "[InstallKernelSpec] Installed kernelspec julia-0.6 in /home/uma/.local/share/jupyter/kernels/julia-0.6\n",
      "\u001b[1m\u001b[36mINFO: \u001b[39m\u001b[22m\u001b[36mPackage database updated\n",
      "\u001b[39m"
     ]
    }
   ],
   "source": [
    "p_it(\"IJuliaPortrayals\")"
   ]
  },
  {
   "cell_type": "markdown",
   "metadata": {},
   "source": [
    "Verificamos la instalación exitosa:"
   ]
  },
  {
   "cell_type": "markdown",
   "metadata": {},
   "source": [
    "```julia\n",
    "Pkg.status()\n",
    "24 required packages:\n",
    " ...\n",
    " - IJulia                        1.5.0\n",
    " - IJuliaPortrayals              0.0.4\n",
    " ...\n",
    "121 additional packages:\n",
    " ... \n",
    "```"
   ]
  },
  {
   "cell_type": "markdown",
   "metadata": {},
   "source": [
    "# Por Hacer (TODO)\n",
    "\n",
    "* Modificar para que pueda aceptar múltiples argumentos; *i.e.*:\n",
    "\n",
    "```julia\n",
    "p_it(\"PyPlot\", \"Plots\")\n",
    "```"
   ]
  },
  {
   "cell_type": "markdown",
   "metadata": {},
   "source": [
    "# Para saber más:\n",
    "\n",
    "**Funciones en Julia**\n",
    "\n",
    "* https://docs.julialang.org/en/stable/manual/functions/"
   ]
  },
  {
   "cell_type": "markdown",
   "metadata": {
    "collapsed": true
   },
   "source": [
    "# Reproducibilidad"
   ]
  },
  {
   "cell_type": "code",
   "execution_count": 8,
   "metadata": {},
   "outputs": [
    {
     "name": "stdout",
     "output_type": "stream",
     "text": [
      "Julia Version 0.6.0-rc2.0\n",
      "Commit 68e911be53* (2017-05-18 02:31 UTC)\n",
      "Platform Info:\n",
      "  OS: Linux (x86_64-solus-linux)\n",
      "  CPU: Intel(R) Core(TM) i5-4590 CPU @ 3.30GHz\n",
      "  WORD_SIZE: 64\n",
      "  BLAS: libopenblas (NO_AFFINITY CORE2)\n",
      "  LAPACK: libopenblas\n",
      "  LIBM: libopenlibm\n",
      "  LLVM: libLLVM-4.0.0 (ORCJIT, haswell)\n"
     ]
    }
   ],
   "source": [
    "versioninfo()"
   ]
  },
  {
   "cell_type": "code",
   "execution_count": 9,
   "metadata": {},
   "outputs": [
    {
     "data": {
      "text/plain": [
       "2017-06-20"
      ]
     },
     "execution_count": 9,
     "metadata": {},
     "output_type": "execute_result"
    }
   ],
   "source": [
    "Dates.today()"
   ]
  }
 ],
 "metadata": {
  "kernelspec": {
   "display_name": "Julia 0.6.0-rc2",
   "language": "julia",
   "name": "julia-0.6"
  },
  "language_info": {
   "file_extension": ".jl",
   "mimetype": "application/julia",
   "name": "julia",
   "version": "0.6.0"
  }
 },
 "nbformat": 4,
 "nbformat_minor": 2
}
